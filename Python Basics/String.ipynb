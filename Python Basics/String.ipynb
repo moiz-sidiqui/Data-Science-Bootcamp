{
 "cells": [
  {
   "cell_type": "markdown",
   "id": "ae0ad9d2-1f51-46a1-8ed2-2b00ed414cc6",
   "metadata": {},
   "source": [
    "# 1. Reverse a String\n",
    "## Problem Statement:\n",
    "Write a function to reverse a given string.\n",
    "\n",
    "## Example 1:\n",
    "**Input:** `\"hello\"`  \n",
    "**Output:** `\"olleh\"`\n",
    "\n",
    "## Example 2:\n",
    "**Input:** `\"world\"`  \n",
    "**Output:** `\"dlrow\"`\n"
   ]
  },
  {
   "cell_type": "code",
   "execution_count": 2,
   "id": "e1435aa7-457c-4b05-ad71-fc7204bb88d7",
   "metadata": {},
   "outputs": [],
   "source": [
    "def reverse(str):\n",
    "    return str[::-1]"
   ]
  },
  {
   "cell_type": "code",
   "execution_count": 4,
   "id": "1f15a4a5-58a6-4b21-b178-575c8b4790f2",
   "metadata": {},
   "outputs": [
    {
     "name": "stdout",
     "output_type": "stream",
     "text": [
      "dlrow\n"
     ]
    }
   ],
   "source": [
    "print(reverse('world'))"
   ]
  },
  {
   "cell_type": "markdown",
   "id": "5a3927f5-6184-40a6-b3f8-34cd08ef19a1",
   "metadata": {},
   "source": [
    "# 2. Check if a String is a Palindrome\n",
    "## Problem Statement:\n",
    "Write a function to check if a string is a palindrome (same forward and backward).\n",
    "\n",
    "## Example 1:\n",
    "**Input:** `\"madam\"`  \n",
    "**Output:** `True`\n",
    "\n",
    "## Example 2:\n",
    "**Input:** `\"hello\"`  \n",
    "**Output:** `False`\n"
   ]
  },
  {
   "cell_type": "code",
   "execution_count": 5,
   "id": "e10e83ef-aacb-4764-9c1a-dc28c3d0b3df",
   "metadata": {},
   "outputs": [],
   "source": [
    "def palindrome(str):\n",
    "    for i in range(len(str)):\n",
    "        if str[i] != str [len(str) -i -1]:\n",
    "            return False\n",
    "\n",
    "    return True\n",
    "    "
   ]
  },
  {
   "cell_type": "code",
   "execution_count": 9,
   "id": "5e6a74e5-1a49-48ee-8624-20cce02b3597",
   "metadata": {},
   "outputs": [
    {
     "name": "stdout",
     "output_type": "stream",
     "text": [
      "True\n"
     ]
    }
   ],
   "source": [
    "str = 'madam'\n",
    "print(palindrome(str))"
   ]
  },
  {
   "cell_type": "markdown",
   "id": "58b59720-7688-43eb-b24d-d886c3b3c809",
   "metadata": {},
   "source": [
    "# 3. Count the Number of Vowels in a String\n",
    "## Problem Statement:\n",
    "Write a function to count the number of vowels in a given string.\n",
    "\n",
    "## Example 1:\n",
    "**Input:** `\"apple\"`  \n",
    "**Output:** `2`\n",
    "\n",
    "## Example 2:\n",
    "**Input:** `\"banana\"`  \n",
    "**Output:** `3`\n"
   ]
  },
  {
   "cell_type": "code",
   "execution_count": 11,
   "id": "cc7ada12-76e0-4759-87ee-31224446fdd7",
   "metadata": {},
   "outputs": [],
   "source": [
    "def vowels(str):\n",
    "    count = 0\n",
    "    for i in str:\n",
    "        if i == 'a' or i == 'e' or i == 'i' or i == 'o' or i == 'u' or i == 'A' or i == 'E' or i == 'I' or i == 'O' or i == 'U' :\n",
    "            count += 1\n",
    "    return count\n",
    "        "
   ]
  },
  {
   "cell_type": "code",
   "execution_count": 12,
   "id": "6ad075be-9c42-41d2-be73-ac5760653656",
   "metadata": {},
   "outputs": [
    {
     "name": "stdout",
     "output_type": "stream",
     "text": [
      "2\n"
     ]
    }
   ],
   "source": [
    "str = 'apple'\n",
    "print(vowels(str))"
   ]
  },
  {
   "cell_type": "markdown",
   "id": "abcbec6f-e9e9-4238-8130-b4313c2357cc",
   "metadata": {},
   "source": [
    "# 4. Remove All Whitespace from a String\n",
    "## Problem Statement:\n",
    "Write a function that removes all whitespace characters from a string.\n",
    "\n",
    "## Example 1:\n",
    "**Input:** `\"hello world\"`  \n",
    "**Output:** `\"helloworld\"`\n",
    "\n",
    "## Example 2:\n",
    "**Input:** `\" Python  is  fun \"`  \n",
    "**Output:** `\"Pythonisfun\"`\n"
   ]
  },
  {
   "cell_type": "code",
   "execution_count": 14,
   "id": "59152c0f-cc53-4319-8b61-7bfa739a35a9",
   "metadata": {},
   "outputs": [
    {
     "name": "stdout",
     "output_type": "stream",
     "text": [
      "Moiz\n"
     ]
    }
   ],
   "source": [
    "# method 1\n",
    "def remove_whitespace(str):\n",
    "    result = \"\"\n",
    "    for char in str:\n",
    "        if char != \" \" and char != \"\\n\" and char != \"\\t\":\n",
    "            result += char\n",
    "    return result\n",
    "\n",
    "\n",
    "print(remove_whitespace('   M     o    i   z    '))\n"
   ]
  },
  {
   "cell_type": "code",
   "execution_count": 16,
   "id": "c0feb715-5555-4882-b4d5-862addfc2e83",
   "metadata": {},
   "outputs": [
    {
     "name": "stdout",
     "output_type": "stream",
     "text": [
      "Moiz\n"
     ]
    }
   ],
   "source": [
    "# method 2\n",
    "def remove__whitespace(str):\n",
    "    return str.replace(' ','')\n",
    "\n",
    "print(remove__whitespace('   M     o    i   z    '))\n"
   ]
  },
  {
   "cell_type": "markdown",
   "id": "7a8010ed-0bbf-42c3-82c3-46b175c6e8af",
   "metadata": {},
   "source": [
    "# 5. Find the First Non-Repeating Character in a String\n",
    "## Problem Statement:\n",
    "Write a function to find the first non-repeating character in a given string.\n",
    "\n",
    "## Example 1:\n",
    "**Input:** `\"swiss\"`  \n",
    "**Output:** `\"w\"`\n",
    "\n",
    "## Example 2:\n",
    "**Input:** `\"racecar\"`  \n",
    "**Output:** `\"e\"`\n"
   ]
  },
  {
   "cell_type": "code",
   "execution_count": 17,
   "id": "4aca409d-99fa-43bc-814c-9d93d54507ad",
   "metadata": {},
   "outputs": [],
   "source": [
    "def first_non_repeating(str):\n",
    "    dict = {}\n",
    "    for i in str:\n",
    "        if i in dict.keys():\n",
    "            dict[i] += 1\n",
    "        else:\n",
    "            dict[i] = 1\n",
    "\n",
    "    # Collect duplicates\n",
    "    duplicates = [k for k, v in dict.items() if v == 1]\n",
    "    return duplicates[0]"
   ]
  },
  {
   "cell_type": "code",
   "execution_count": 19,
   "id": "728943f8-b9cd-45ca-9c54-4698ea06ade7",
   "metadata": {},
   "outputs": [
    {
     "name": "stdout",
     "output_type": "stream",
     "text": [
      "w\n"
     ]
    }
   ],
   "source": [
    "str ='swiss'\n",
    "print(first_non_repeating(str))"
   ]
  },
  {
   "cell_type": "markdown",
   "id": "d3b7ea00-ba1f-46ed-b122-bb6b7cac074f",
   "metadata": {},
   "source": [
    "# 6. Check if Two Strings are Anagrams\n",
    "## Problem Statement:\n",
    "Write a function to check if two strings are anagrams.\n",
    "\n",
    "## Example 1:\n",
    "**Input:** `\"listen\", \"silent\"`  \n",
    "**Output:** `True`\n",
    "\n",
    "## Example 2:\n",
    "**Input:** `\"hello\", \"world\"`  \n",
    "**Output:** `False`\n"
   ]
  },
  {
   "cell_type": "code",
   "execution_count": 33,
   "id": "3b2c05e5-a7df-476b-9061-f7df9c3539d2",
   "metadata": {},
   "outputs": [],
   "source": [
    "def anagram(str1, str2):\n",
    "    if len(str1) != len(str2):\n",
    "        return False\n",
    "\n",
    "    for i in str1:\n",
    "        if i in str2:\n",
    "            str2 = str2.replace(i, '', 1)  # Remove only one occurrence\n",
    "        else:\n",
    "            return False\n",
    "\n",
    "    return True if str2 == '' else False\n",
    "\n",
    "    "
   ]
  },
  {
   "cell_type": "code",
   "execution_count": 34,
   "id": "921ee110-5557-4d6e-a669-dc81ca237bcb",
   "metadata": {},
   "outputs": [
    {
     "name": "stdout",
     "output_type": "stream",
     "text": [
      "True\n"
     ]
    }
   ],
   "source": [
    "str1 = 'listen'\n",
    "str2 = 'silent'\n",
    "\n",
    "print(anagram(str1, str2))"
   ]
  },
  {
   "cell_type": "markdown",
   "id": "3989dfe4-ab68-419d-9042-877f37ede653",
   "metadata": {},
   "source": [
    "# 7. Convert a String to Uppercase\n",
    "## Problem Statement:\n",
    "Write a function to convert a string to uppercase.\n",
    "\n",
    "## Example 1:\n",
    "**Input:** `\"python\"`  \n",
    "**Output:** `\"PYTHON\"`\n",
    "\n",
    "## Example 2:\n",
    "**Input:** `\"Hello World\"`  \n",
    "**Output:** `\"HELLO WORLD\"`\n"
   ]
  },
  {
   "cell_type": "code",
   "execution_count": 40,
   "id": "163d0c7c-d95c-48f5-9f57-a6415fe19099",
   "metadata": {},
   "outputs": [],
   "source": [
    "def uppercase(str):\n",
    "    upper = ''\n",
    "    for i in str:\n",
    "        # Check if the character is a lowercase \n",
    "        if 'a' <= i <= 'z':\n",
    "            upper += chr(ord(i) - 32)  \n",
    "        else:\n",
    "            upper += i \n",
    "\n",
    "    return upper\n"
   ]
  },
  {
   "cell_type": "code",
   "execution_count": 42,
   "id": "aaf4bac8-2992-489f-90fe-a6321edc64c4",
   "metadata": {},
   "outputs": [
    {
     "name": "stdout",
     "output_type": "stream",
     "text": [
      "HELLO WORLD\n"
     ]
    }
   ],
   "source": [
    "str = 'Hello World'\n",
    "print(uppercase(str))"
   ]
  },
  {
   "cell_type": "markdown",
   "id": "d9101758-0867-41e5-b4a0-a71db20536ae",
   "metadata": {},
   "source": [
    "# 8. Find the Most Frequent Character in a String\n",
    "## Problem Statement:\n",
    "Write a function to find the most frequently occurring character in a string.\n",
    "\n",
    "## Example 1:\n",
    "**Input:** `\"banana\"`  \n",
    "**Output:** `\"a\"`\n",
    "\n",
    "## Example 2:\n",
    "**Input:** `\"mississippi\"`  \n",
    "**Output:** `\"i\"`\n"
   ]
  },
  {
   "cell_type": "code",
   "execution_count": 46,
   "id": "9cb62d0a-3b5d-4271-8091-ad6e666acd2a",
   "metadata": {},
   "outputs": [],
   "source": [
    "def first_non_repeating(str):\n",
    "    dict = {}\n",
    "    for i in str:\n",
    "        if i in dict.keys():\n",
    "            dict[i] += 1\n",
    "        else:\n",
    "            dict[i] = 1\n",
    "\n",
    "    # Collecting key with highest value\n",
    "    most_frequent_char = ''\n",
    "    most_frequent_count = 0\n",
    "    for k, v in dict.items():\n",
    "        if v > most_frequent_count:\n",
    "            most_frequent_count = v\n",
    "            most_frequent_char = k\n",
    "            \n",
    "    return most_frequent_char\n",
    "    "
   ]
  },
  {
   "cell_type": "code",
   "execution_count": 47,
   "id": "8934605e-f2d2-49ab-a77e-2fb406d85d79",
   "metadata": {},
   "outputs": [
    {
     "name": "stdout",
     "output_type": "stream",
     "text": [
      "a\n"
     ]
    }
   ],
   "source": [
    "str ='banana'\n",
    "print(first_non_repeating(str))"
   ]
  },
  {
   "cell_type": "markdown",
   "id": "b23de210-f0d4-4e2d-ab9a-aa853e471a15",
   "metadata": {},
   "source": [
    "# 9. Check if a String Contains Only Digits\n",
    "## Problem Statement:\n",
    "Write a function to check if a string contains only digits.\n",
    "\n",
    "## Example 1:\n",
    "**Input:** `\"12345\"`  \n",
    "**Output:** `True`\n",
    "\n",
    "## Example 2:\n",
    "**Input:** `\"12a45\"`  \n",
    "**Output:** `False`\n"
   ]
  },
  {
   "cell_type": "code",
   "execution_count": 48,
   "id": "419f05a0-3648-4ef3-badf-0cdd35869ec1",
   "metadata": {},
   "outputs": [],
   "source": [
    "def check_digit(str):\n",
    "    for i in str:\n",
    "        if not i.isdigit():\n",
    "            return False\n",
    "    return True\n",
    "            "
   ]
  },
  {
   "cell_type": "code",
   "execution_count": 51,
   "id": "8c3e49f1-defd-4b0d-8321-6517e6917795",
   "metadata": {},
   "outputs": [
    {
     "name": "stdout",
     "output_type": "stream",
     "text": [
      "True\n"
     ]
    }
   ],
   "source": [
    "str = '12345'\n",
    "print(check_digit(str))"
   ]
  },
  {
   "cell_type": "markdown",
   "id": "f9d2b183-d1aa-446d-a449-90d3375f7c53",
   "metadata": {},
   "source": [
    "# 10. Find the Length of the Longest Word in a Sentence\n",
    "## Problem Statement:\n",
    "Write a function to find the length of the longest word in a sentence.\n",
    "\n",
    "## Example 1:\n",
    "**Input:** `\"The quick brown fox\"`  \n",
    "**Output:** `5`\n",
    "\n",
    "## Example 2:\n",
    "**Input:** `\"A journey of a thousand miles\"`  \n",
    "**Output:** `8`\n"
   ]
  },
  {
   "cell_type": "code",
   "execution_count": 54,
   "id": "0ed5e962-f5dd-4e91-85e2-0cd0e9fcdf84",
   "metadata": {},
   "outputs": [],
   "source": [
    "def longestword(str):\n",
    "    \n",
    "    #first we split the str in list of words\n",
    "    list_of_words = str.split()\n",
    "\n",
    "    max_len = 0\n",
    "    for i in list_of_words:\n",
    "        max_len = max ( max_len, len(i))\n",
    "\n",
    "    return max_len\n",
    "    "
   ]
  },
  {
   "cell_type": "code",
   "execution_count": 56,
   "id": "6a62f30a-81ee-405a-89c5-560f88ed25fe",
   "metadata": {},
   "outputs": [
    {
     "name": "stdout",
     "output_type": "stream",
     "text": [
      "5\n"
     ]
    }
   ],
   "source": [
    "Input = \"The quick brown fox\"\n",
    "print(longestword(Input))"
   ]
  },
  {
   "cell_type": "markdown",
   "id": "3499119b-b83a-4e89-b68e-db215e943998",
   "metadata": {},
   "source": [
    "# 11. Replace Spaces with '%20' (URL Encoding)\n",
    "## Problem Statement:\n",
    "Write a function to replace all spaces in a string with `%20`.\n",
    "\n",
    "## Example 1:\n",
    "**Input:** `\"Mr John Smith\"`  \n",
    "**Output:** `\"Mr%20John%20Smith\"`\n",
    "\n",
    "## Example 2:\n",
    "**Input:** `\"Hello World\"`  \n",
    "**Output:** `\"Hello%20World\"`\n"
   ]
  },
  {
   "cell_type": "code",
   "execution_count": 57,
   "id": "c1b7b110-7076-4e47-9690-b99de5ffd695",
   "metadata": {},
   "outputs": [],
   "source": [
    "def replace_space(str):\n",
    "    for i in str:\n",
    "        str = str.replace(' ','%20')\n",
    "\n",
    "    return str"
   ]
  },
  {
   "cell_type": "code",
   "execution_count": 58,
   "id": "b94611fe-6fb7-4edf-9954-176d45889f5b",
   "metadata": {},
   "outputs": [
    {
     "name": "stdout",
     "output_type": "stream",
     "text": [
      "Mr%20John%20Smith\n"
     ]
    }
   ],
   "source": [
    "str = 'Mr John Smith'\n",
    "print(replace_space(str))"
   ]
  },
  {
   "cell_type": "markdown",
   "id": "59196fe4-763d-4d23-a941-6f17ce59481a",
   "metadata": {},
   "source": [
    "# 12. Find All Substrings of a String\n",
    "## Problem Statement:\n",
    "Write a function to return all substrings of a given string.\n",
    "\n",
    "## Example 1:\n",
    "**Input:** `\"abc\"`  \n",
    "**Output:** `[\"a\", \"b\", \"c\", \"ab\", \"bc\", \"abc\"]`\n",
    "\n",
    "## Example 2:\n",
    "**Input:** `\"xyz\"`  \n",
    "**Output:** `[\"x\", \"y\", \"z\", \"xy\", \"yz\", \"xyz\"]`\n"
   ]
  },
  {
   "cell_type": "code",
   "execution_count": 73,
   "id": "743c4c58-3950-427f-8c0b-bd4e3eda5fa8",
   "metadata": {},
   "outputs": [],
   "source": [
    "def all_substrings(s):\n",
    "    substrings = []\n",
    "    # Outer loop for the starting index\n",
    "    for i in range(len(s)):\n",
    "        # Inner loop for the ending index\n",
    "        for j in range(i + 1, len(s) + 1):\n",
    "            substrings.append(s[i:j])\n",
    "    return substrings\n"
   ]
  },
  {
   "cell_type": "code",
   "execution_count": 74,
   "id": "993ed2a1-22ea-41ab-aeec-da5d494b8561",
   "metadata": {},
   "outputs": [
    {
     "name": "stdout",
     "output_type": "stream",
     "text": [
      "['x', 'xy', 'xyz', 'y', 'yz', 'z']\n"
     ]
    }
   ],
   "source": [
    "str = 'xyz'\n",
    "print(all_substrings(str))"
   ]
  },
  {
   "cell_type": "markdown",
   "id": "08cca7f3-0462-4e37-883e-4850ac7d9b4a",
   "metadata": {},
   "source": [
    "# 13. Reverse Each Word in a Sentence\n",
    "## Problem Statement:\n",
    "Write a function to reverse each word in a sentence while maintaining word order.\n",
    "\n",
    "## Example 1:\n",
    "**Input:** `\"hello world\"`  \n",
    "**Output:** `\"olleh dlrow\"`\n",
    "\n",
    "## Example 2:\n",
    "**Input:** `\"Python is fun\"`  \n",
    "**Output:** `\"nohtyP si nuf\"`\n"
   ]
  },
  {
   "cell_type": "code",
   "execution_count": 70,
   "id": "53eab569-3ea4-4e48-a585-6f729c5e2c69",
   "metadata": {},
   "outputs": [],
   "source": [
    "def reverse_word(str):\n",
    "    \n",
    "    #first we split the str in list of words\n",
    "    list_of_words = str.split()\n",
    "\n",
    "    for i in range(len(list_of_words)):\n",
    "        list_of_words[i] = list_of_words[i][::-1]\n",
    "\n",
    "    result = ' '.join(list_of_words)\n",
    "\n",
    "    return result\n",
    "\n"
   ]
  },
  {
   "cell_type": "code",
   "execution_count": 71,
   "id": "72bba1ec-96c7-41b3-976f-f8dbdbc8cec9",
   "metadata": {},
   "outputs": [
    {
     "name": "stdout",
     "output_type": "stream",
     "text": [
      "nohtyP si nuf\n"
     ]
    }
   ],
   "source": [
    "str = 'Python is fun'\n",
    "print(reverse_word(str))"
   ]
  },
  {
   "cell_type": "markdown",
   "id": "c52682bf-2f05-4515-acce-192b91883858",
   "metadata": {},
   "source": [
    "# 14. Find the Longest Common Prefix of a List of Strings\n",
    "## Problem Statement:\n",
    "Write a function to find the longest common prefix among a list of strings.\n",
    "\n",
    "## Example 1:\n",
    "**Input:** `[\"flower\", \"flow\", \"flight\"]`  \n",
    "**Output:** `\"fl\"`\n",
    "\n",
    "## Example 2:\n",
    "**Input:** `[\"dog\", \"racecar\", \"car\"]`  \n",
    "**Output:** `\"\"`\n"
   ]
  },
  {
   "cell_type": "code",
   "execution_count": 183,
   "id": "c326e4fd-7ad6-4d3e-9bd9-f5b28114eeff",
   "metadata": {},
   "outputs": [],
   "source": [
    "def longestcommonprefix( lst ):\n",
    "    prefix = ''\n",
    "    counter = len(lst)\n",
    "    min_length = min([len(i) for i in lst])\n",
    "    for i in range(min_length):\n",
    "        temp = ''\n",
    "        #temp will store all the ith elements of the list\n",
    "        for j in lst:\n",
    "            temp += j[i]\n",
    "\n",
    "        #now we will see if all letters in temp are same\n",
    "        #if same - add them to prefix\n",
    "        if len(set(temp)) == 1:\n",
    "            prefix += temp[0]\n",
    "\n",
    "    return prefix    "
   ]
  },
  {
   "cell_type": "code",
   "execution_count": 188,
   "id": "353a8f44-2487-4cc5-8c4a-0e24e8148a22",
   "metadata": {},
   "outputs": [
    {
     "name": "stdout",
     "output_type": "stream",
     "text": [
      "fl\n"
     ]
    }
   ],
   "source": [
    "lst = [\"flower\", \"flow\", \"flight\"]\n",
    "print(longestcommonprefix(lst))"
   ]
  },
  {
   "cell_type": "markdown",
   "id": "b90c467f-001e-4a93-bfff-08bba1a3f703",
   "metadata": {},
   "source": [
    "# 15. Check if a String is a Rotation of Another String\n",
    "## Problem Statement:\n",
    "Write a function to check if one string is a rotation of another.\n",
    "\n",
    "## Example 1:\n",
    "**Input:** `\"waterbottle\", \"erbottlewat\"`  \n",
    "**Output:** `True`\n",
    "\n",
    "## Example 2:\n",
    "**Input:** `\"hello\", \"lohel\"`  \n",
    "**Output:** `True`\n"
   ]
  },
  {
   "cell_type": "code",
   "execution_count": 78,
   "id": "dcf4c6e8-8192-4cff-8d48-9226448d0ff2",
   "metadata": {},
   "outputs": [],
   "source": [
    "# logic\n",
    "#If str2 is a rotation of str1, then it will always be a substring of str1 + str1\n",
    "def is_rotation(str1, str2):\n",
    "    # First check if lengths are equal\n",
    "    if len(str1) != len(str2):\n",
    "        return False\n",
    "\n",
    "    # Check if str2 is a substring of str1 + str1\n",
    "    return str2 in (str1 + str1)\n"
   ]
  },
  {
   "cell_type": "code",
   "execution_count": 79,
   "id": "f8e70c6b-a474-4c93-82fc-e39811a5f637",
   "metadata": {},
   "outputs": [
    {
     "name": "stdout",
     "output_type": "stream",
     "text": [
      "True\n"
     ]
    }
   ],
   "source": [
    "print(rotation(\"waterbottle\", \"erbottlewat\"))"
   ]
  },
  {
   "cell_type": "markdown",
   "id": "06d7a3d1-e01d-483d-95a9-30330f21440c",
   "metadata": {},
   "source": [
    "# 16. Find the Second Most Frequent Character in a String\n",
    "## Problem Statement:\n",
    "Write a function to find the second most frequent character in a string.\n",
    "\n",
    "## Example 1:\n",
    "**Input:** `\"banana\"`  \n",
    "**Output:** `\"n\"`\n",
    "\n",
    "## Example 2:\n",
    "**Input:** `\"mississippi\"`  \n",
    "**Output:** `\"s\"`\n"
   ]
  },
  {
   "cell_type": "code",
   "execution_count": 91,
   "id": "65a91520-9d70-4dc4-990a-931223a98b52",
   "metadata": {},
   "outputs": [],
   "source": [
    "def second_most_frequent(str):\n",
    "    freq = {}\n",
    "    for i in str:\n",
    "        if i in freq.keys():\n",
    "            freq[i] += 1\n",
    "        else:\n",
    "            freq[i] = 1\n",
    "\n",
    "    \n",
    "    sorted_values = sorted(set(freq.values()))\n",
    "    sorted_value_second_highest = sorted_values[-2]\n",
    "\n",
    "    for k,v in freq.items():\n",
    "        if v == sorted_value_second_highest:\n",
    "            second_most_frequent_variable = k\n",
    "\n",
    "    return second_most_frequent_variable"
   ]
  },
  {
   "cell_type": "code",
   "execution_count": 92,
   "id": "2fba47a2-7db0-4fc0-9895-e157412acb93",
   "metadata": {},
   "outputs": [
    {
     "name": "stdout",
     "output_type": "stream",
     "text": [
      "n\n"
     ]
    }
   ],
   "source": [
    "str = 'banana'\n",
    "print(second_most_frequent(str))"
   ]
  },
  {
   "cell_type": "markdown",
   "id": "d262dac7-f41e-400d-bfd0-ea5057f5c922",
   "metadata": {},
   "source": [
    "# 17. Check if a String is Made of Unique Characters\n",
    "## Problem Statement:\n",
    "Write a function to check if a string contains only unique characters.\n",
    "\n",
    "## Example 1:\n",
    "**Input:** `\"abcdef\"`  \n",
    "**Output:** `True`\n",
    "\n",
    "## Example 2:\n",
    "**Input:** `\"aabbcc\"`  \n",
    "**Output:** `False`\n"
   ]
  },
  {
   "cell_type": "code",
   "execution_count": 96,
   "id": "253be31b-7673-4b81-95e9-cb1cd09c48fb",
   "metadata": {},
   "outputs": [],
   "source": [
    "def unique(str):\n",
    "    listt = list(str)\n",
    "    listt = sorted(listt)\n",
    "\n",
    "    for i in range(len(listt)):\n",
    "        if i < len(listt):\n",
    "            if listt[i] == listt[i+1]:\n",
    "                return False\n",
    "    return True\n",
    "    "
   ]
  },
  {
   "cell_type": "code",
   "execution_count": 97,
   "id": "80463995-b332-445c-9ed8-201e2e2caf7f",
   "metadata": {},
   "outputs": [
    {
     "name": "stdout",
     "output_type": "stream",
     "text": [
      "False\n"
     ]
    }
   ],
   "source": [
    "str = 'aabbcc'\n",
    "print(unique(str))"
   ]
  },
  {
   "cell_type": "markdown",
   "id": "739f0939-b81a-45d4-8cd2-d0659268711c",
   "metadata": {},
   "source": [
    "# 18. Find the Longest Palindromic Substring\n",
    "## Problem Statement:\n",
    "Write a function to find the longest palindromic substring.\n",
    "\n",
    "## Example 1:\n",
    "**Input:** `\"babad\"`  \n",
    "**Output:** `\"bab\"`\n",
    "\n",
    "## Example 2:\n",
    "**Input:** `\"cbbd\"`  \n",
    "**Output:** `\"bb\"`\n"
   ]
  },
  {
   "cell_type": "code",
   "execution_count": 104,
   "id": "dd923018-aa4a-4cb2-98e0-6628d8b3b400",
   "metadata": {},
   "outputs": [],
   "source": [
    "def longest_palindrome(str):\n",
    "\n",
    "    lengthh = 0\n",
    "    longest_length_string = 0\n",
    "    temp =''\n",
    "    for i in range(len(str)):\n",
    "        for j in range(i,len(str)):\n",
    "            if i == j or i == j+1:\n",
    "                continue  #single element so no need to check\n",
    "            #use slicing\n",
    "            temp = str[i:j]\n",
    "\n",
    "            #use palindrome logic here\n",
    "            result = palindrome(temp)\n",
    "            if result:\n",
    "                length_of_palindrome = len(temp)\n",
    "                if length_of_palindrome > lengthh:\n",
    "                    final = temp\n",
    "                    lengthh = length_of_palindrome\n",
    "    return final\n",
    "                \n",
    "            "
   ]
  },
  {
   "cell_type": "code",
   "execution_count": 105,
   "id": "4c098295-8070-493a-9d67-3bd134b8725e",
   "metadata": {},
   "outputs": [],
   "source": [
    "# palindrom helper function\n",
    "def palindrome(l):\n",
    "    for i in range(len(l)):\n",
    "        if l[i] != l[len(l) -i -1]:\n",
    "            return False\n",
    "    return True"
   ]
  },
  {
   "cell_type": "code",
   "execution_count": 109,
   "id": "02c1d0bc-c2b1-433e-a610-4d621d65e934",
   "metadata": {},
   "outputs": [
    {
     "name": "stdout",
     "output_type": "stream",
     "text": [
      "bab\n"
     ]
    }
   ],
   "source": [
    "s = 'babad'\n",
    "print(longest_palindrome(s))"
   ]
  },
  {
   "cell_type": "code",
   "execution_count": null,
   "id": "e81b99b5-c822-4ba5-8f04-2b869a4f5e1b",
   "metadata": {},
   "outputs": [],
   "source": []
  },
  {
   "cell_type": "markdown",
   "id": "9e48cf7b-b799-4574-984c-51fc15661b16",
   "metadata": {},
   "source": [
    "# 19. Remove Duplicate Characters from a String\n",
    "## Problem Statement:\n",
    "Write a function to remove duplicate characters from a string.\n",
    "\n",
    "## Example 1:\n",
    "**Input:** `\"hello\"`  \n",
    "**Output:** `\"helo\"`\n",
    "\n",
    "## Example 2:\n",
    "**Input:** `\"mississippi\"`  \n",
    "**Output:** `\"misp\"`\n"
   ]
  },
  {
   "cell_type": "code",
   "execution_count": 112,
   "id": "932536b6-b58c-47d8-897e-10aba10d5654",
   "metadata": {},
   "outputs": [],
   "source": [
    "def remove_duplicate_characters(str):\n",
    "    listt = list(str)\n",
    "    new = []\n",
    "    for i in listt:\n",
    "        if i not in new:\n",
    "            new.append(i)\n",
    "\n",
    "    string = ''.join(new)\n",
    "\n",
    "    return string"
   ]
  },
  {
   "cell_type": "code",
   "execution_count": 115,
   "id": "ec288297-0e2a-4465-898b-39c002bed301",
   "metadata": {},
   "outputs": [
    {
     "name": "stdout",
     "output_type": "stream",
     "text": [
      "misp\n"
     ]
    }
   ],
   "source": [
    "str = \"mississipp\"\n",
    "print(remove_duplicate_characters(str))"
   ]
  },
  {
   "cell_type": "markdown",
   "id": "a9abec9d-c0c3-4425-a1c6-e42342e3757a",
   "metadata": {},
   "source": [
    "# 20. Sort a String Alphabetically\n",
    "## Problem Statement:\n",
    "Write a function to sort the characters of a string alphabetically.\n",
    "\n",
    "## Example 1:\n",
    "**Input:** `\"hello\"`  \n",
    "**Output:** `\"ehllo\"`\n",
    "\n",
    "## Example 2:\n",
    "**Input:** `\"python\"`  \n",
    "**Output:** `\"hnopty\"`\n"
   ]
  },
  {
   "cell_type": "code",
   "execution_count": 116,
   "id": "9b881c5a-7e0c-4785-a2d6-f700725fad3d",
   "metadata": {},
   "outputs": [],
   "source": [
    "def sort_alphabetically(str):\n",
    "    listt = list(str)\n",
    "    listt = sorted(listt)\n",
    "    sorted_str = ''.join(listt)\n",
    "    return sorted_str"
   ]
  },
  {
   "cell_type": "code",
   "execution_count": 117,
   "id": "4f23c52f-0cb4-4dc7-a06d-be464656fda3",
   "metadata": {},
   "outputs": [
    {
     "name": "stdout",
     "output_type": "stream",
     "text": [
      "hnopty\n"
     ]
    }
   ],
   "source": [
    "str = 'python'\n",
    "print(sort_alphabetically(str))"
   ]
  },
  {
   "cell_type": "markdown",
   "id": "f267b2f8-c7f6-4295-a7b0-c89af5cf5807",
   "metadata": {},
   "source": [
    "# 21. Find the Smallest Window in a String Containing All Characters of Another String\n",
    "## Problem Statement:\n",
    "Write a function to find the smallest window in a string that contains all characters of another string.\n",
    "\n",
    "## Example 1:\n",
    "**Input:** `\"ADOBECODEBANC\", \"ABC\"`  \n",
    "**Output:** `\"BANC\"`\n",
    "\n",
    "## Example 2:\n",
    "**Input:** `\"aabbcc\", \"abc\"`  \n",
    "**Output:** `\"abc\"`\n"
   ]
  },
  {
   "cell_type": "code",
   "execution_count": 178,
   "id": "8145837e-3cc3-43a5-9875-f955033aaf09",
   "metadata": {},
   "outputs": [],
   "source": [
    "def smallest_window_with_all_chars(s, t):\n",
    "    s = s.lower()\n",
    "    t = t.lower()\n",
    "    sorted_t = sorted(list(t))\n",
    "    t_len = len(t)\n",
    "\n",
    "    for i in range(len(s) - t_len + 1):\n",
    "        window = s[i:i + t_len]\n",
    "        if sorted(list(window)) == sorted_t:\n",
    "            return s[i:i + t_len]  # return original casing if needed\n",
    "\n",
    "    return   # if no window found\n"
   ]
  },
  {
   "cell_type": "code",
   "execution_count": null,
   "id": "08fc97e2-2eee-4b3f-850c-59e547121d25",
   "metadata": {},
   "outputs": [],
   "source": []
  },
  {
   "cell_type": "markdown",
   "id": "823be7b2-27f6-40df-82b2-f1f2b69bc1cb",
   "metadata": {},
   "source": [
    "# 22. Implement Run-Length Encoding\n",
    "## Problem Statement:\n",
    "Write a function to perform run-length encoding on a string.\n",
    "\n",
    "## Example 1:\n",
    "**Input:** `\"aaabbc\"`  \n",
    "**Output:** `\"3a2b1c\"`\n",
    "\n",
    "## Example 2:\n",
    "**Input:** `\"wwwwaaadexxxxxx\"`  \n",
    "**Output:** `\"4w3a1d1e6x\"`\n"
   ]
  },
  {
   "cell_type": "code",
   "execution_count": 142,
   "id": "e127c6b1-57fd-40cb-aac5-9e07cef586d2",
   "metadata": {},
   "outputs": [],
   "source": [
    "def run_length_encoding(s):\n",
    "    freq = {}\n",
    "    for i in s:\n",
    "        if i in freq.keys():\n",
    "            freq[i] += 1\n",
    "        else:\n",
    "            freq[i] = 1\n",
    "\n",
    "    # creating the desired string\n",
    "    # str with no repeating letter\n",
    "    str_no_repeat = []\n",
    "    for i in s:\n",
    "        if i not in str_no_repeat:\n",
    "            str_no_repeat.append(i)\n",
    "    #converting the list to the str\n",
    "    str_no_repeat = ''.join(str_no_repeat)\n",
    "\n",
    "    final = []\n",
    "    for i in str_no_repeat:\n",
    "        #getting the count from the dictionary created\n",
    "        count =  freq[i]\n",
    "        final.append(count)\n",
    "        final.append(i)\n",
    "\n",
    "    #encoded = ''\n",
    "    #for i in final:\n",
    "        #encoded += str(i)\n",
    "\n",
    "    return final\n",
    "        "
   ]
  },
  {
   "cell_type": "code",
   "execution_count": 143,
   "id": "3470d46e-444c-43be-b517-730824de2300",
   "metadata": {},
   "outputs": [
    {
     "name": "stdout",
     "output_type": "stream",
     "text": [
      "[4, 'w', 3, 'a', 1, 'd', 1, 'e', 6, 'x']\n"
     ]
    }
   ],
   "source": [
    "strr = \"wwwwaaadexxxxxx\"\n",
    "print(run_length_encoding(strr))"
   ]
  },
  {
   "cell_type": "code",
   "execution_count": null,
   "id": "20629596-3865-4ad0-baf9-1c82de2f2c06",
   "metadata": {},
   "outputs": [],
   "source": []
  },
  {
   "cell_type": "markdown",
   "id": "fbe98b17-13c7-4f56-93db-d8056113af31",
   "metadata": {},
   "source": [
    "# 23. Find All Permutations of a String\n",
    "## Problem Statement:\n",
    "Write a function to generate all permutations of a given string.\n",
    "\n",
    "## Example 1:\n",
    "**Input:** `\"abc\"`  \n",
    "**Output:** `[\"abc\", \"acb\", \"bac\", \"bca\", \"cab\", \"cba\"]`\n",
    "\n",
    "## Example 2:\n",
    "**Input:** `\"ab\"`  \n",
    "**Output:** `[\"ab\", \"ba\"]`\n"
   ]
  },
  {
   "cell_type": "code",
   "execution_count": 140,
   "id": "101a8feb-61e0-4a97-a122-f5de229e6817",
   "metadata": {},
   "outputs": [],
   "source": [
    "def get_permutations(s):\n",
    "    # Base case\n",
    "    if len(s) == 1:\n",
    "        return [s]\n",
    "\n",
    "    perms = []  # List to store all permutations\n",
    "    for i in range(len(s)):\n",
    "        fixed_char = s[i]  # Fix one character\n",
    "        remaining = s[:i] + s[i+1:]  # Get the remaining string after removing the fixed character\n",
    "        # Recursively get all permutations of the remaining string\n",
    "        for p in get_permutations(remaining):\n",
    "            perms.append(fixed_char + p)  # Combine fixed + each permutation of remaining\n",
    "    return perms\n"
   ]
  },
  {
   "cell_type": "code",
   "execution_count": 141,
   "id": "ff510bea-3648-446b-93c8-aa5246b38c50",
   "metadata": {},
   "outputs": [
    {
     "name": "stdout",
     "output_type": "stream",
     "text": [
      "['abc', 'acb', 'bac', 'bca', 'cab', 'cba']\n"
     ]
    }
   ],
   "source": [
    "print(get_permutations('abc'))"
   ]
  },
  {
   "cell_type": "markdown",
   "id": "1064221e-a51f-46b1-afea-c37505d3b68b",
   "metadata": {},
   "source": [
    "# 24. Count the Number of Distinct Subsequences of a String\n",
    "## Problem Statement:\n",
    "Write a function to count the number of distinct subsequences of a string.\n",
    "\n",
    "## Example 1:\n",
    "**Input:** `\"abc\"`  \n",
    "**Output:** `7`\n",
    "\n",
    "## Example 2:\n",
    "**Input:** `\"aaa\"`  \n",
    "**Output:** `3`\n"
   ]
  },
  {
   "cell_type": "code",
   "execution_count": 144,
   "id": "fb9c8ffe-7045-446c-9033-c88601f25969",
   "metadata": {},
   "outputs": [],
   "source": [
    "def count_unique_subsequences(s):\n",
    "    result = set()\n",
    "\n",
    "    def helper(index, path):\n",
    "        if index == len(s):\n",
    "            if path != \"\":\n",
    "                result.add(path)\n",
    "            return\n",
    "        \n",
    "        # Include current character\n",
    "        helper(index + 1, path + s[index])\n",
    "        # Exclude current character\n",
    "        helper(index + 1, path)\n",
    "\n",
    "    helper(0, \"\")\n",
    "    return len(result)\n"
   ]
  },
  {
   "cell_type": "code",
   "execution_count": 145,
   "id": "9740cb31-5aa2-431e-9c3d-9822cf1521ac",
   "metadata": {},
   "outputs": [
    {
     "name": "stdout",
     "output_type": "stream",
     "text": [
      "7\n"
     ]
    }
   ],
   "source": [
    "print(count_unique_subsequences('abc'))"
   ]
  },
  {
   "cell_type": "markdown",
   "id": "2fd59b75-b80f-466c-9517-34c927e66134",
   "metadata": {},
   "source": [
    "# 25. Find the Shortest Superstring That Contains All Given Strings as Subsequences\n",
    "## Problem Statement:\n",
    "Write a function to find the shortest superstring that contains all given strings as subsequences.\n",
    "\n",
    "## Example 1:\n",
    "**Input:** `[\"catg\", \"ctaagt\", \"gcta\", \"ttca\", \"atgcatc\"]`  \n",
    "**Output:** `\"gctaagttcatgcatc\"`\n",
    "\n",
    "## Example 2:\n",
    "**Input:** `[\"abc\", \"bca\", \"cab\"]`  \n",
    "**Output:** `\"abcab\"`\n"
   ]
  },
  {
   "cell_type": "code",
   "execution_count": 163,
   "id": "c4340296-fcc3-45e5-a27c-8706d0c53502",
   "metadata": {},
   "outputs": [],
   "source": [
    "def get_list_permutations(lst):\n",
    "    # Base case: if only one element, return list with one permutation\n",
    "    if len(lst) == 1:\n",
    "        return [lst]\n",
    "\n",
    "    perms = []  # List to store permutations\n",
    "    for i in range(len(lst)):\n",
    "        fixed_elem = lst[i]  # Fix one element\n",
    "        remaining = lst[:i] + lst[i+1:]  # Remove the fixed element\n",
    "\n",
    "        # Get permutations of the remaining elements\n",
    "        for p in get_list_permutations(remaining):\n",
    "            perms.append([fixed_elem] + p)  # Combine fixed element + permutation of remaining\n",
    "    return perms\n"
   ]
  },
  {
   "cell_type": "code",
   "execution_count": 164,
   "id": "74cff6c2-11a5-42c4-9a16-f649cd8c7e10",
   "metadata": {},
   "outputs": [
    {
     "name": "stdout",
     "output_type": "stream",
     "text": [
      "[['catg', 'ctaagt', 'gcta', 'ttca', 'atgcatc'], ['catg', 'ctaagt', 'gcta', 'atgcatc', 'ttca'], ['catg', 'ctaagt', 'ttca', 'gcta', 'atgcatc'], ['catg', 'ctaagt', 'ttca', 'atgcatc', 'gcta'], ['catg', 'ctaagt', 'atgcatc', 'gcta', 'ttca'], ['catg', 'ctaagt', 'atgcatc', 'ttca', 'gcta'], ['catg', 'gcta', 'ctaagt', 'ttca', 'atgcatc'], ['catg', 'gcta', 'ctaagt', 'atgcatc', 'ttca'], ['catg', 'gcta', 'ttca', 'ctaagt', 'atgcatc'], ['catg', 'gcta', 'ttca', 'atgcatc', 'ctaagt'], ['catg', 'gcta', 'atgcatc', 'ctaagt', 'ttca'], ['catg', 'gcta', 'atgcatc', 'ttca', 'ctaagt'], ['catg', 'ttca', 'ctaagt', 'gcta', 'atgcatc'], ['catg', 'ttca', 'ctaagt', 'atgcatc', 'gcta'], ['catg', 'ttca', 'gcta', 'ctaagt', 'atgcatc'], ['catg', 'ttca', 'gcta', 'atgcatc', 'ctaagt'], ['catg', 'ttca', 'atgcatc', 'ctaagt', 'gcta'], ['catg', 'ttca', 'atgcatc', 'gcta', 'ctaagt'], ['catg', 'atgcatc', 'ctaagt', 'gcta', 'ttca'], ['catg', 'atgcatc', 'ctaagt', 'ttca', 'gcta'], ['catg', 'atgcatc', 'gcta', 'ctaagt', 'ttca'], ['catg', 'atgcatc', 'gcta', 'ttca', 'ctaagt'], ['catg', 'atgcatc', 'ttca', 'ctaagt', 'gcta'], ['catg', 'atgcatc', 'ttca', 'gcta', 'ctaagt'], ['ctaagt', 'catg', 'gcta', 'ttca', 'atgcatc'], ['ctaagt', 'catg', 'gcta', 'atgcatc', 'ttca'], ['ctaagt', 'catg', 'ttca', 'gcta', 'atgcatc'], ['ctaagt', 'catg', 'ttca', 'atgcatc', 'gcta'], ['ctaagt', 'catg', 'atgcatc', 'gcta', 'ttca'], ['ctaagt', 'catg', 'atgcatc', 'ttca', 'gcta'], ['ctaagt', 'gcta', 'catg', 'ttca', 'atgcatc'], ['ctaagt', 'gcta', 'catg', 'atgcatc', 'ttca'], ['ctaagt', 'gcta', 'ttca', 'catg', 'atgcatc'], ['ctaagt', 'gcta', 'ttca', 'atgcatc', 'catg'], ['ctaagt', 'gcta', 'atgcatc', 'catg', 'ttca'], ['ctaagt', 'gcta', 'atgcatc', 'ttca', 'catg'], ['ctaagt', 'ttca', 'catg', 'gcta', 'atgcatc'], ['ctaagt', 'ttca', 'catg', 'atgcatc', 'gcta'], ['ctaagt', 'ttca', 'gcta', 'catg', 'atgcatc'], ['ctaagt', 'ttca', 'gcta', 'atgcatc', 'catg'], ['ctaagt', 'ttca', 'atgcatc', 'catg', 'gcta'], ['ctaagt', 'ttca', 'atgcatc', 'gcta', 'catg'], ['ctaagt', 'atgcatc', 'catg', 'gcta', 'ttca'], ['ctaagt', 'atgcatc', 'catg', 'ttca', 'gcta'], ['ctaagt', 'atgcatc', 'gcta', 'catg', 'ttca'], ['ctaagt', 'atgcatc', 'gcta', 'ttca', 'catg'], ['ctaagt', 'atgcatc', 'ttca', 'catg', 'gcta'], ['ctaagt', 'atgcatc', 'ttca', 'gcta', 'catg'], ['gcta', 'catg', 'ctaagt', 'ttca', 'atgcatc'], ['gcta', 'catg', 'ctaagt', 'atgcatc', 'ttca'], ['gcta', 'catg', 'ttca', 'ctaagt', 'atgcatc'], ['gcta', 'catg', 'ttca', 'atgcatc', 'ctaagt'], ['gcta', 'catg', 'atgcatc', 'ctaagt', 'ttca'], ['gcta', 'catg', 'atgcatc', 'ttca', 'ctaagt'], ['gcta', 'ctaagt', 'catg', 'ttca', 'atgcatc'], ['gcta', 'ctaagt', 'catg', 'atgcatc', 'ttca'], ['gcta', 'ctaagt', 'ttca', 'catg', 'atgcatc'], ['gcta', 'ctaagt', 'ttca', 'atgcatc', 'catg'], ['gcta', 'ctaagt', 'atgcatc', 'catg', 'ttca'], ['gcta', 'ctaagt', 'atgcatc', 'ttca', 'catg'], ['gcta', 'ttca', 'catg', 'ctaagt', 'atgcatc'], ['gcta', 'ttca', 'catg', 'atgcatc', 'ctaagt'], ['gcta', 'ttca', 'ctaagt', 'catg', 'atgcatc'], ['gcta', 'ttca', 'ctaagt', 'atgcatc', 'catg'], ['gcta', 'ttca', 'atgcatc', 'catg', 'ctaagt'], ['gcta', 'ttca', 'atgcatc', 'ctaagt', 'catg'], ['gcta', 'atgcatc', 'catg', 'ctaagt', 'ttca'], ['gcta', 'atgcatc', 'catg', 'ttca', 'ctaagt'], ['gcta', 'atgcatc', 'ctaagt', 'catg', 'ttca'], ['gcta', 'atgcatc', 'ctaagt', 'ttca', 'catg'], ['gcta', 'atgcatc', 'ttca', 'catg', 'ctaagt'], ['gcta', 'atgcatc', 'ttca', 'ctaagt', 'catg'], ['ttca', 'catg', 'ctaagt', 'gcta', 'atgcatc'], ['ttca', 'catg', 'ctaagt', 'atgcatc', 'gcta'], ['ttca', 'catg', 'gcta', 'ctaagt', 'atgcatc'], ['ttca', 'catg', 'gcta', 'atgcatc', 'ctaagt'], ['ttca', 'catg', 'atgcatc', 'ctaagt', 'gcta'], ['ttca', 'catg', 'atgcatc', 'gcta', 'ctaagt'], ['ttca', 'ctaagt', 'catg', 'gcta', 'atgcatc'], ['ttca', 'ctaagt', 'catg', 'atgcatc', 'gcta'], ['ttca', 'ctaagt', 'gcta', 'catg', 'atgcatc'], ['ttca', 'ctaagt', 'gcta', 'atgcatc', 'catg'], ['ttca', 'ctaagt', 'atgcatc', 'catg', 'gcta'], ['ttca', 'ctaagt', 'atgcatc', 'gcta', 'catg'], ['ttca', 'gcta', 'catg', 'ctaagt', 'atgcatc'], ['ttca', 'gcta', 'catg', 'atgcatc', 'ctaagt'], ['ttca', 'gcta', 'ctaagt', 'catg', 'atgcatc'], ['ttca', 'gcta', 'ctaagt', 'atgcatc', 'catg'], ['ttca', 'gcta', 'atgcatc', 'catg', 'ctaagt'], ['ttca', 'gcta', 'atgcatc', 'ctaagt', 'catg'], ['ttca', 'atgcatc', 'catg', 'ctaagt', 'gcta'], ['ttca', 'atgcatc', 'catg', 'gcta', 'ctaagt'], ['ttca', 'atgcatc', 'ctaagt', 'catg', 'gcta'], ['ttca', 'atgcatc', 'ctaagt', 'gcta', 'catg'], ['ttca', 'atgcatc', 'gcta', 'catg', 'ctaagt'], ['ttca', 'atgcatc', 'gcta', 'ctaagt', 'catg'], ['atgcatc', 'catg', 'ctaagt', 'gcta', 'ttca'], ['atgcatc', 'catg', 'ctaagt', 'ttca', 'gcta'], ['atgcatc', 'catg', 'gcta', 'ctaagt', 'ttca'], ['atgcatc', 'catg', 'gcta', 'ttca', 'ctaagt'], ['atgcatc', 'catg', 'ttca', 'ctaagt', 'gcta'], ['atgcatc', 'catg', 'ttca', 'gcta', 'ctaagt'], ['atgcatc', 'ctaagt', 'catg', 'gcta', 'ttca'], ['atgcatc', 'ctaagt', 'catg', 'ttca', 'gcta'], ['atgcatc', 'ctaagt', 'gcta', 'catg', 'ttca'], ['atgcatc', 'ctaagt', 'gcta', 'ttca', 'catg'], ['atgcatc', 'ctaagt', 'ttca', 'catg', 'gcta'], ['atgcatc', 'ctaagt', 'ttca', 'gcta', 'catg'], ['atgcatc', 'gcta', 'catg', 'ctaagt', 'ttca'], ['atgcatc', 'gcta', 'catg', 'ttca', 'ctaagt'], ['atgcatc', 'gcta', 'ctaagt', 'catg', 'ttca'], ['atgcatc', 'gcta', 'ctaagt', 'ttca', 'catg'], ['atgcatc', 'gcta', 'ttca', 'catg', 'ctaagt'], ['atgcatc', 'gcta', 'ttca', 'ctaagt', 'catg'], ['atgcatc', 'ttca', 'catg', 'ctaagt', 'gcta'], ['atgcatc', 'ttca', 'catg', 'gcta', 'ctaagt'], ['atgcatc', 'ttca', 'ctaagt', 'catg', 'gcta'], ['atgcatc', 'ttca', 'ctaagt', 'gcta', 'catg'], ['atgcatc', 'ttca', 'gcta', 'catg', 'ctaagt'], ['atgcatc', 'ttca', 'gcta', 'ctaagt', 'catg']]\n"
     ]
    }
   ],
   "source": [
    "#just to show how output would be \n",
    "\n",
    "listt = [\"catg\", \"ctaagt\", \"gcta\", \"ttca\", \"atgcatc\"]\n",
    "print(get_list_permutations(listt))"
   ]
  },
  {
   "cell_type": "code",
   "execution_count": 165,
   "id": "ebf2ddcc-f50e-4c96-a72e-e05102f3337f",
   "metadata": {},
   "outputs": [],
   "source": [
    "def smart_concatenate(words):\n",
    "    if not words:\n",
    "        return \"\"\n",
    "    \n",
    "    result = words[0]\n",
    "    \n",
    "    for i in range(1, len(words)):\n",
    "        prev = result[-1]\n",
    "        curr = words[i]\n",
    "        if prev == curr[0]:\n",
    "            result += curr[1:]  # skip the first char of current word\n",
    "        else:\n",
    "            result += curr  # just add the whole word\n",
    "    return result\n",
    "\n",
    "\n"
   ]
  },
  {
   "cell_type": "code",
   "execution_count": 166,
   "id": "898f6ecc-eef3-4746-bed8-a18c20f053f4",
   "metadata": {},
   "outputs": [
    {
     "name": "stdout",
     "output_type": "stream",
     "text": [
      "120\n"
     ]
    }
   ],
   "source": [
    "print(len(get_list_permutations([\"catg\", \"ctaagt\", \"gcta\", \"ttca\", \"atgcatc\"])))"
   ]
  },
  {
   "cell_type": "code",
   "execution_count": 170,
   "id": "02afd3c2-6624-4601-a816-03a895686540",
   "metadata": {},
   "outputs": [],
   "source": [
    "def shortest_superstring(lst):\n",
    "    combinations = get_list_permutations(lst)\n",
    "\n",
    "    concatenated_list = []\n",
    "\n",
    "    for i in combinations:\n",
    "        result = smart_concatenate(i)\n",
    "        concatenated_list.append(result)\n",
    "\n",
    "    # now we will find the smallest concatenated list\n",
    "    smallest_superstring = min(concatenated_list, key=len)\n",
    "\n",
    "    return smallest_superstring\n",
    "    "
   ]
  },
  {
   "cell_type": "code",
   "execution_count": 171,
   "id": "2a92c829-dafe-47ef-b938-a41b542548eb",
   "metadata": {},
   "outputs": [
    {
     "name": "stdout",
     "output_type": "stream",
     "text": [
      "catgctatgcatctaagttca\n"
     ]
    }
   ],
   "source": [
    "listt = [\"catg\", \"ctaagt\", \"gcta\", \"ttca\", \"atgcatc\"]\n",
    "\n",
    "print(shortest_superstring(listt))"
   ]
  },
  {
   "cell_type": "code",
   "execution_count": null,
   "id": "b9002323-e1c0-4914-b745-aac070e407c0",
   "metadata": {},
   "outputs": [],
   "source": []
  },
  {
   "cell_type": "code",
   "execution_count": null,
   "id": "b67c3422-9b21-480e-b035-5783247c0082",
   "metadata": {},
   "outputs": [],
   "source": []
  },
  {
   "cell_type": "code",
   "execution_count": 174,
   "id": "ec54c623-5ed3-4f2e-8176-4fab8b11c1e3",
   "metadata": {},
   "outputs": [],
   "source": []
  },
  {
   "cell_type": "code",
   "execution_count": null,
   "id": "3d88aab5-dd23-4010-aef1-5e73456b4db4",
   "metadata": {},
   "outputs": [],
   "source": []
  }
 ],
 "metadata": {
  "kernelspec": {
   "display_name": "Python 3 (ipykernel)",
   "language": "python",
   "name": "python3"
  },
  "language_info": {
   "codemirror_mode": {
    "name": "ipython",
    "version": 3
   },
   "file_extension": ".py",
   "mimetype": "text/x-python",
   "name": "python",
   "nbconvert_exporter": "python",
   "pygments_lexer": "ipython3",
   "version": "3.11.7"
  }
 },
 "nbformat": 4,
 "nbformat_minor": 5
}

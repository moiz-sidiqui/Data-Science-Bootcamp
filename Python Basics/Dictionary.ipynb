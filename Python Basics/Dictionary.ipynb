{
 "cells": [
  {
   "cell_type": "markdown",
   "id": "1f48d5c9",
   "metadata": {},
   "source": [
    "# 1. Create a Dictionary from Two Lists\n",
    "\n",
    "## Problem Statement:\n",
    "Write a function to create a dictionary from two lists of equal length, one for keys and one for values.\n",
    "\n",
    "## Example 1:\n",
    "**Input:** `keys = ['a', 'b'], values = [1, 2]`  \n",
    "**Output:** `{'a': 1, 'b': 2}`\n",
    "\n",
    "## Example 2:\n",
    "**Input:** `keys = ['x'], values = [10]`  \n",
    "**Output:** `{'x': 10}`\n"
   ]
  },
  {
   "cell_type": "code",
   "execution_count": 2,
   "id": "3ea65a39",
   "metadata": {},
   "outputs": [],
   "source": [
    "def create(keys, values):\n",
    "    new_dict ={}\n",
    "\n",
    "    #length of keys and values are same\n",
    "    for i in range(len(keys)):\n",
    "        new_dict[keys[i]] = values[i]\n",
    "\n",
    "    return new_dict"
   ]
  },
  {
   "cell_type": "code",
   "execution_count": 5,
   "id": "116d7f17",
   "metadata": {},
   "outputs": [
    {
     "name": "stdout",
     "output_type": "stream",
     "text": [
      "{'a': 1, 'b': 2}\n"
     ]
    }
   ],
   "source": [
    "keys = ['a', 'b']\n",
    "values = [1,2]\n",
    "\n",
    "print(create(keys,values))"
   ]
  },
  {
   "cell_type": "markdown",
   "id": "9016196e",
   "metadata": {},
   "source": [
    "# 2. Merge Two Dictionaries\n",
    "\n",
    "## Problem Statement:\n",
    "Write a function to merge two dictionaries into one.\n",
    "\n",
    "## Example 1:\n",
    "**Input:** `{'a': 1}, {'b': 2}`  \n",
    "**Output:** `{'a': 1, 'b': 2}`\n",
    "\n",
    "## Example 2:\n",
    "**Input:** `{'x': 10}, {'y': 20, 'z': 30}`  \n",
    "**Output:** `{'x': 10, 'y': 20, 'z': 30}`\n"
   ]
  },
  {
   "cell_type": "code",
   "execution_count": 6,
   "id": "5ee5d659",
   "metadata": {},
   "outputs": [],
   "source": [
    "def merge(dict1, dict2):\n",
    "    new_dict ={}\n",
    "\n",
    "    #for dict1\n",
    "    for i in dict1.keys():\n",
    "        new_dict[i] = dict1[i]\n",
    "\n",
    "    #for dict2\n",
    "    for i in dict2.keys():\n",
    "        new_dict[i] = dict2[i]\n",
    "\n",
    "    return new_dict\n",
    "\n",
    "\n",
    "    "
   ]
  },
  {
   "cell_type": "code",
   "execution_count": 7,
   "id": "d9d7b5b2",
   "metadata": {},
   "outputs": [
    {
     "name": "stdout",
     "output_type": "stream",
     "text": [
      "{'x': 10, 'y': 20, 'z': 30}\n"
     ]
    }
   ],
   "source": [
    "d1 ={'x': 10}\n",
    "d2 ={'y': 20, 'z': 30}\n",
    "\n",
    "print(merge(d1,d2))"
   ]
  },
  {
   "cell_type": "markdown",
   "id": "c6526c5c",
   "metadata": {},
   "source": [
    "# 3. Check if Key Exists\n",
    "\n",
    "## Problem Statement:\n",
    "Write a function to check if a specific key exists in a dictionary.\n",
    "\n",
    "## Example 1:\n",
    "**Input:** `{'a': 1}, 'a'`  \n",
    "**Output:** `True`\n",
    "\n",
    "## Example 2:\n",
    "**Input:** `{'b': 2}, 'a'`  \n",
    "**Output:** `False`\n"
   ]
  },
  {
   "cell_type": "code",
   "execution_count": 9,
   "id": "a04fa909",
   "metadata": {},
   "outputs": [],
   "source": [
    "def check_key(dict, key):\n",
    "    keys = dict.keys()\n",
    "    return key in keys\n",
    "    "
   ]
  },
  {
   "cell_type": "code",
   "execution_count": 12,
   "id": "b1ef4e37",
   "metadata": {},
   "outputs": [
    {
     "name": "stdout",
     "output_type": "stream",
     "text": [
      "False\n"
     ]
    }
   ],
   "source": [
    "d1 ={'b': 2}\n",
    "key ='a'\n",
    "print(check_key(d1,key))"
   ]
  },
  {
   "cell_type": "markdown",
   "id": "e72c9a22",
   "metadata": {},
   "source": [
    "# 4. Count Frequency of Elements\n",
    "\n",
    "## Problem Statement:\n",
    "Write a function to count the frequency of each element in a list using a dictionary.\n",
    "\n",
    "## Example 1:\n",
    "**Input:** `[1,2,2,3]`  \n",
    "**Output:** `{1:1, 2:2, 3:1}`\n",
    "\n",
    "## Example 2:\n",
    "**Input:** `['a','b','a']`  \n",
    "**Output:** `{'a':2, 'b':1}`\n",
    "\n",
    "\n"
   ]
  },
  {
   "cell_type": "code",
   "execution_count": 13,
   "id": "31fd888e",
   "metadata": {},
   "outputs": [],
   "source": [
    "def freq(listt):\n",
    "    dict = {}\n",
    "    for i in listt:\n",
    "        if i in dict.keys():\n",
    "            dict[i] += 1\n",
    "        else:\n",
    "            dict[i] = 1\n",
    "    return dict\n",
    "    "
   ]
  },
  {
   "cell_type": "code",
   "execution_count": 14,
   "id": "ad5808ba",
   "metadata": {},
   "outputs": [
    {
     "name": "stdout",
     "output_type": "stream",
     "text": [
      "{'a': 2, 'b': 1}\n"
     ]
    }
   ],
   "source": [
    "Input = ['a','b','a']\n",
    "print(freq(Input))"
   ]
  },
  {
   "cell_type": "markdown",
   "id": "c1b74aa9",
   "metadata": {},
   "source": [
    "# 5. Reverse Dictionary (Unique Values)\n",
    "\n",
    "## Problem Statement:\n",
    "Write a function to reverse keys and values in a dictionary. Assume values are unique.\n",
    "\n",
    "## Example 1:\n",
    "**Input:** `{'a':1, 'b':2}`  \n",
    "**Output:** `{1:'a', 2:'b'}`\n",
    "\n",
    "## Example 2:\n",
    "**Input:** `{'x':'y'}`  \n",
    "**Output:** `{'y':'x'}`\n"
   ]
  },
  {
   "cell_type": "code",
   "execution_count": 17,
   "id": "df0a31ed",
   "metadata": {},
   "outputs": [],
   "source": [
    "def reverse_dict(dict):\n",
    "    keys = list(dict.keys())\n",
    "    values = list(dict.values())\n",
    "    new_dict = {}\n",
    "    length = len(keys)           # length of keys and values would be same\n",
    "    for i in range(length):\n",
    "        new_dict[values[i]] = keys[i]\n",
    "\n",
    "    return new_dict\n",
    "        "
   ]
  },
  {
   "cell_type": "code",
   "execution_count": 18,
   "id": "ba3b7a1a",
   "metadata": {},
   "outputs": [
    {
     "name": "stdout",
     "output_type": "stream",
     "text": [
      "{1: 'a', 2: 'b'}\n"
     ]
    }
   ],
   "source": [
    "Input = {'a':1, 'b':2}\n",
    "print(reverse_dict(Input))"
   ]
  },
  {
   "cell_type": "markdown",
   "id": "bfc01a37",
   "metadata": {},
   "source": [
    "# 6. Dictionary with Maximum Value\n",
    "\n",
    "## Problem Statement:\n",
    "Write a function that returns the key with the highest value in a dictionary.\n",
    "\n",
    "## Example 1:\n",
    "**Input:** `{'a':3, 'b':10}`  \n",
    "**Output:** `'b'`\n",
    "\n",
    "## Example 2:\n",
    "**Input:** `{'x':1, 'y':-5}`  \n",
    "**Output:** `'x'`\n"
   ]
  },
  {
   "cell_type": "code",
   "execution_count": 28,
   "id": "3ebfad1c",
   "metadata": {},
   "outputs": [],
   "source": [
    "def max_key(dict):\n",
    "    \n",
    "    #getting values\n",
    "    listt = list(set(dict.values()))\n",
    "    max_value = max(listt)\n",
    "\n",
    "    key =''\n",
    "    for k,v in dict.items():\n",
    "        if v == int(max_value):\n",
    "            key = k\n",
    "    return key\n",
    "        "
   ]
  },
  {
   "cell_type": "code",
   "execution_count": 29,
   "id": "2aead54f",
   "metadata": {},
   "outputs": [
    {
     "name": "stdout",
     "output_type": "stream",
     "text": [
      "b\n"
     ]
    }
   ],
   "source": [
    "Input = {'a':3, 'b':10}\n",
    "print(max_key(Input))"
   ]
  },
  {
   "cell_type": "markdown",
   "id": "2df1f7ab",
   "metadata": {},
   "source": [
    "# 7. Remove Key from Dictionary\n",
    "\n",
    "## Problem Statement:\n",
    "Write a function that removes a specified key from a dictionary.\n",
    "\n",
    "## Example 1:\n",
    "**Input:** `{'a':1, 'b':2}, 'a'`  \n",
    "**Output:** `{'b':2}`\n",
    "\n",
    "## Example 2:\n",
    "**Input:** `{'x':3, 'y':4}, 'z'`  \n",
    "**Output:** `{'x':3, 'y':4}`\n"
   ]
  },
  {
   "cell_type": "code",
   "execution_count": 30,
   "id": "ebc9c007",
   "metadata": {},
   "outputs": [],
   "source": [
    "def remove_key(dict, key):\n",
    "    del dict[key]\n",
    "    return dict"
   ]
  },
  {
   "cell_type": "code",
   "execution_count": 31,
   "id": "4c042f24",
   "metadata": {},
   "outputs": [
    {
     "name": "stdout",
     "output_type": "stream",
     "text": [
      "{'b': 2}\n"
     ]
    }
   ],
   "source": [
    "Input = {'a':1, 'b':2}\n",
    "key = 'a'\n",
    "\n",
    "print(remove_key(Input, key))"
   ]
  },
  {
   "cell_type": "markdown",
   "id": "542b30d7",
   "metadata": {},
   "source": [
    "# 8. Dictionary from String\n",
    "\n",
    "## Problem Statement:\n",
    "Write a function to count the occurrences of each character in a given string using a dictionary.\n",
    "\n",
    "## Example 1:\n",
    "**Input:** `\"hello\"`  \n",
    "**Output:** `{'h':1,'e':1,'l':2,'o':1}`\n",
    "\n",
    "## Example 2:\n",
    "**Input:** `\"abc\"`  \n",
    "**Output:** `{'a':1,'b':1,'c':1}`\n",
    "\n",
    "\n"
   ]
  },
  {
   "cell_type": "code",
   "execution_count": 35,
   "id": "1a0604ff",
   "metadata": {},
   "outputs": [],
   "source": [
    "def occurrences(string):\n",
    "\n",
    "    dict = {}\n",
    "    for i in string:\n",
    "        if i in dict.keys():\n",
    "            dict[i] += 1\n",
    "        else:\n",
    "            dict[i] = 1\n",
    "    return dict"
   ]
  },
  {
   "cell_type": "code",
   "execution_count": 36,
   "id": "511f5418-405d-45d1-86b1-d5c768d189ee",
   "metadata": {},
   "outputs": [
    {
     "name": "stdout",
     "output_type": "stream",
     "text": [
      "{'h': 1, 'e': 1, 'l': 2, 'o': 1}\n"
     ]
    }
   ],
   "source": [
    "input = 'hello'\n",
    "print(occurrences(input))"
   ]
  },
  {
   "cell_type": "markdown",
   "id": "b8bb6168",
   "metadata": {},
   "source": [
    "# 9. Update Value in Dictionary\n",
    "\n",
    "## Problem Statement:\n",
    "Write a function to update a value associated with a given key in a dictionary.\n",
    "\n",
    "## Example 1:\n",
    "**Input:** `{'a':1}, 'a', 100`  \n",
    "**Output:** `{'a':100}`\n",
    "\n",
    "## Example 2:\n",
    "**Input:** `{'x':10}, 'y', 20`  \n",
    "**Output:** `{'x':10, 'y':20}`\n"
   ]
  },
  {
   "cell_type": "code",
   "execution_count": 42,
   "id": "7a8a617e",
   "metadata": {},
   "outputs": [],
   "source": [
    "def update(dict, key , new_value):\n",
    "    for k in dict.keys():\n",
    "        if k == key:\n",
    "            dict[key] = new_value\n",
    "    return dict"
   ]
  },
  {
   "cell_type": "code",
   "execution_count": 44,
   "id": "1345099a",
   "metadata": {},
   "outputs": [
    {
     "name": "stdout",
     "output_type": "stream",
     "text": [
      "{'a': 100}\n"
     ]
    }
   ],
   "source": [
    "Input = {'a':1} \n",
    "k ='a'\n",
    "v = 100\n",
    "\n",
    "print(update(Input, k, v))"
   ]
  },
  {
   "cell_type": "markdown",
   "id": "8b580e88",
   "metadata": {},
   "source": [
    "# 10. Sort Dictionary by Values\n",
    "\n",
    "## Problem Statement:\n",
    "Write a function to sort a dictionary by values in ascending order.\n",
    "\n",
    "## Example 1:\n",
    "**Input:** `{'a':3, 'b':1}`  \n",
    "**Output:** `{'b':1, 'a':3}`\n",
    "\n",
    "## Example 2:\n",
    "**Input:** `{'x':4,'y':2}`  \n",
    "**Output:** `{'y':2, 'x':4}`\n"
   ]
  },
  {
   "cell_type": "code",
   "execution_count": 48,
   "id": "4cfc1e2c",
   "metadata": {},
   "outputs": [],
   "source": [
    "def sort_ascending(dict):\n",
    "\n",
    "    #the below code will sort values and store them in a list.\n",
    "    values = sorted(list(dict.values()))\n",
    "    new_dict = {}\n",
    "\n",
    "    # time complexity On2\n",
    "    for i in values:\n",
    "        for k,v in dict.items():\n",
    "            if i == v:\n",
    "                new_dict[k] = v\n",
    "\n",
    "    return new_dict\n",
    "    "
   ]
  },
  {
   "cell_type": "code",
   "execution_count": 49,
   "id": "deac7ba4",
   "metadata": {},
   "outputs": [
    {
     "name": "stdout",
     "output_type": "stream",
     "text": [
      "{'y': 2, 'x': 4}\n"
     ]
    }
   ],
   "source": [
    "Input = {'x':4,'y':2}\n",
    "print(sort_ascending(Input))"
   ]
  },
  {
   "cell_type": "markdown",
   "id": "923a13f3",
   "metadata": {},
   "source": [
    "# 11. Dictionary Intersection\n",
    "\n",
    "## Problem Statement:\n",
    "Write a function that returns a dictionary containing keys common to two dictionaries with values from the first dictionary.\n",
    "\n",
    "## Example 1:\n",
    "**Input:** `{'a':1, 'b':2}, {'b':4, 'c':3}`  \n",
    "**Output:** `{'b':2}`\n",
    "\n",
    "## Example 2:\n",
    "**Input:** `{'x':5}, {'y':5}`  \n",
    "**Output:** `{}`\n"
   ]
  },
  {
   "cell_type": "code",
   "execution_count": 55,
   "id": "463eed21",
   "metadata": {},
   "outputs": [],
   "source": [
    "def common_keys(dict1 , dict2):\n",
    "    keys1 = list(dict1.keys())\n",
    "    keys2 = list(dict2.keys())\n",
    "\n",
    "    common_keyss = []\n",
    "    for i in keys1:\n",
    "        if i in keys2:\n",
    "            common_keyss.append(i)\n",
    "\n",
    "    new_dict = {}\n",
    "    for k , v in dict1.items():\n",
    "        if k in common_keyss:\n",
    "            new_dict[k] = v\n",
    "\n",
    "    return new_dict"
   ]
  },
  {
   "cell_type": "code",
   "execution_count": 58,
   "id": "8ea06653",
   "metadata": {},
   "outputs": [
    {
     "name": "stdout",
     "output_type": "stream",
     "text": [
      "{'b': 2}\n"
     ]
    }
   ],
   "source": [
    "d1 = {'a':1, 'b':2}\n",
    "d2 = {'b':4, 'c':3}\n",
    "print(common_keys(d1, d2))"
   ]
  },
  {
   "cell_type": "markdown",
   "id": "328b85be",
   "metadata": {},
   "source": [
    "# 14. Filter Dictionary by Values\n",
    "\n",
    "## Problem Statement:\n",
    "Write a function to filter a dictionary, keeping only items where the value is greater than a given number.\n",
    "\n",
    "## Example 1:\n",
    "**Input:** `{'a':5, 'b':2, 'c':8}, 4`  \n",
    "**Output:** `{'a':5, 'c':8}`\n",
    "\n",
    "## Example 2:\n",
    "**Input:** `{'x':1, 'y':3}, 2`  \n",
    "**Output:** `{'y':3}`\n"
   ]
  },
  {
   "cell_type": "code",
   "execution_count": 63,
   "id": "58e19b37",
   "metadata": {},
   "outputs": [],
   "source": [
    "def filter_dictionary_by_value( dict, value):\n",
    "    new_dict = {}\n",
    "    for k, v in dict.items():\n",
    "        if v > value:\n",
    "            new_dict[k] = v\n",
    "\n",
    "    return new_dict\n",
    "    "
   ]
  },
  {
   "cell_type": "code",
   "execution_count": 64,
   "id": "55c9884b",
   "metadata": {},
   "outputs": [
    {
     "name": "stdout",
     "output_type": "stream",
     "text": [
      "{'a': 5, 'c': 8}\n"
     ]
    }
   ],
   "source": [
    "Input= {'a':5, 'b':2, 'c':8}\n",
    "val = 4\n",
    "\n",
    "print(filter_dictionary_by_value(Input, val))"
   ]
  },
  {
   "cell_type": "markdown",
   "id": "b37b6bd2",
   "metadata": {},
   "source": [
    "# 16. Dictionary from List of Tuples\n",
    "\n",
    "## Problem Statement:\n",
    "Write a function that converts a list of tuples into a dictionary, combining values for duplicate keys into lists.\n",
    "\n",
    "## Example 1:\n",
    "**Input:** `[('a',1), ('b',2), ('a',3)]`  \n",
    "**Output:** `{'a':[1,3], 'b':[2]}`\n",
    "\n",
    "## Example 2:\n",
    "**Input:** `[('x',4)]`  \n",
    "**Output:** `{'x':[4]}`\n"
   ]
  },
  {
   "cell_type": "code",
   "execution_count": 69,
   "id": "0cabcc36",
   "metadata": {},
   "outputs": [],
   "source": [
    "def tuple_to_dictionary(listt):\n",
    "    dict = {}\n",
    "    for i in listt:\n",
    "        if i[0] in dict.keys():\n",
    "            dict[i[0]].append(i[1])\n",
    "        else:\n",
    "            dict[i[0]] = [i[1]]\n",
    "\n",
    "    return dict"
   ]
  },
  {
   "cell_type": "code",
   "execution_count": 72,
   "id": "1ba92174",
   "metadata": {},
   "outputs": [
    {
     "name": "stdout",
     "output_type": "stream",
     "text": [
      "{'a': [1, 3], 'b': [2]}\n"
     ]
    }
   ],
   "source": [
    "Input = [('a',1), ('b',2), ('a',3)]\n",
    "print(tuple_to_dictionary(Input))"
   ]
  },
  {
   "cell_type": "markdown",
   "id": "a2f6a871",
   "metadata": {},
   "source": [
    "# 17. Increment Dictionary Values\n",
    "\n",
    "## Problem Statement:\n",
    "Write a function to increment all integer values in a dictionary by a specified number.\n",
    "\n",
    "## Example 1:\n",
    "**Input:** `{'a':1, 'b':2}, 3`  \n",
    "**Output:** `{'a':4, 'b':5}`\n",
    "\n",
    "## Example 2:\n",
    "**Input:** `{'x':10}, -2`  \n",
    "**Output:** `{'x':8}`\n"
   ]
  },
  {
   "cell_type": "code",
   "execution_count": 73,
   "id": "2cae3f6e",
   "metadata": {},
   "outputs": [],
   "source": [
    "def increment(dict, num):\n",
    "    for k in dict.keys():\n",
    "        dict[k] += num\n",
    "    return dict"
   ]
  },
  {
   "cell_type": "code",
   "execution_count": 76,
   "id": "5a8c4696",
   "metadata": {},
   "outputs": [
    {
     "name": "stdout",
     "output_type": "stream",
     "text": [
      "{'x': 8}\n"
     ]
    }
   ],
   "source": [
    "Input = { 'x':10}\n",
    "num = -2\n",
    "\n",
    "print(increment(Input, num))"
   ]
  },
  {
   "cell_type": "markdown",
   "id": "1a4997f3",
   "metadata": {},
   "source": [
    "# 18. Find Duplicates in List Using Dictionary\n",
    "\n",
    "## Problem Statement:\n",
    "Write a function to find all elements that appear more than once in a list, using a dictionary.\n",
    "\n",
    "## Example 1:\n",
    "**Input:** `[1,2,2,3,4,4,4]`  \n",
    "**Output:** `[2,4]`\n",
    "\n",
    "## Example 2:\n",
    "**Input:** `['a','b','c','a']`  \n",
    "**Output:** `['a']`\n"
   ]
  },
  {
   "cell_type": "code",
   "execution_count": 78,
   "id": "35f77861",
   "metadata": {},
   "outputs": [],
   "source": [
    "def element_more_than_once(listt):\n",
    "    dict = {}\n",
    "    for i in listt:\n",
    "        if i in dict.keys():\n",
    "            dict[i] += 1\n",
    "        else:\n",
    "            dict[i] = 1\n",
    "\n",
    "    elements = [k for k, v in dict.items() if v > 1]\n",
    "\n",
    "    return elements\n",
    "    \n",
    "    "
   ]
  },
  {
   "cell_type": "code",
   "execution_count": 83,
   "id": "e2d4570d",
   "metadata": {},
   "outputs": [
    {
     "name": "stdout",
     "output_type": "stream",
     "text": [
      "['a']\n"
     ]
    }
   ],
   "source": [
    "Input = ['a','b','c','a']\n",
    "print(element_more_than_once(Input))\n"
   ]
  },
  {
   "cell_type": "markdown",
   "id": "37dab363",
   "metadata": {},
   "source": [
    "# 19. Merge Dictionaries Summing Values\n",
    "\n",
    "## Problem Statement:\n",
    "Write a function to merge two dictionaries, summing values for common keys.\n",
    "\n",
    "## Example 1:\n",
    "**Input:** `{'a':2, 'b':3}, {'a':3, 'c':1}`  \n",
    "**Output:** `{'a':5, 'b':3, 'c':1}`\n",
    "\n",
    "## Example 2:\n",
    "**Input:** `{'x':1}, {'x':-1}`  \n",
    "**Output:** `{'x':0}`\n"
   ]
  },
  {
   "cell_type": "code",
   "execution_count": 101,
   "id": "f6b073b2",
   "metadata": {},
   "outputs": [],
   "source": [
    "def merge_dictionaries(dict1 , dict2):\n",
    "    keys1 = list(dict1.keys())\n",
    "    keys2 = list(dict2.keys())\n",
    "\n",
    "    common_keys = []\n",
    "    for i in keys1:\n",
    "        if i in keys2:\n",
    "            common_keys.append(i)\n",
    "\n",
    "    # we also need a list with all keys(union)\n",
    "    union_list = []\n",
    "    for i in keys1:\n",
    "        if i not in union_list:\n",
    "            union_list.append(i)\n",
    "    for i in keys2:\n",
    "        if i not in union_list:\n",
    "            union_list.append(i)\n",
    "\n",
    "    #creating dictionary\n",
    "    final_dict = {}\n",
    "    for i in union_list:\n",
    "        if i in common_keys:\n",
    "            final_dict[i] = dict1[i] + dict2[i]\n",
    "        elif i in dict1.keys():\n",
    "            final_dict[i] = dict1[i]\n",
    "        else:\n",
    "            final_dict[i] = dict2[i]\n",
    "\n",
    "    return final_dict\n",
    "        "
   ]
  },
  {
   "cell_type": "code",
   "execution_count": 104,
   "id": "4931ea97",
   "metadata": {},
   "outputs": [
    {
     "name": "stdout",
     "output_type": "stream",
     "text": [
      "{'a': 23, 'b': 3, 'c': 5}\n"
     ]
    }
   ],
   "source": [
    "d1 = {'a':20, 'b':3, 'c':4}\n",
    "d2 = {'a':3, 'c':1}\n",
    "\n",
    "print(merge_dictionaries(d1,d2))"
   ]
  },
  {
   "cell_type": "markdown",
   "id": "01937f89",
   "metadata": {},
   "source": [
    "# 20. Dictionary of Lists to Dictionary of Sums\n",
    "\n",
    "## Problem Statement:\n",
    "Write a function to convert a dictionary of lists into a dictionary of sums.\n",
    "\n",
    "## Example 1:\n",
    "**Input:** `{'a':[1,2,3], 'b':[4,5]}`  \n",
    "**Output:** `{'a':6, 'b':9}`\n",
    "\n",
    "## Example 2:\n",
    "**Input:** `{'x':[10]}`  \n",
    "**Output:** `{'x':10}`\n"
   ]
  },
  {
   "cell_type": "code",
   "execution_count": 94,
   "id": "02599144",
   "metadata": {},
   "outputs": [],
   "source": [
    "def convert_to_sum(dict):\n",
    "    new_dict = {}\n",
    "    for k, v in dict.items():\n",
    "        #here v is a list\n",
    "        sum = 0\n",
    "        for i in v:\n",
    "            sum += i\n",
    "        new_dict[k] = sum\n",
    "\n",
    "    return new_dict"
   ]
  },
  {
   "cell_type": "code",
   "execution_count": 97,
   "id": "551ecc09",
   "metadata": {},
   "outputs": [
    {
     "name": "stdout",
     "output_type": "stream",
     "text": [
      "{'a': 6, 'b': 9}\n"
     ]
    }
   ],
   "source": [
    "Input =  {'a':[1,2,3], 'b':[4,5]}\n",
    "print(convert_to_sum(Input))"
   ]
  }
 ],
 "metadata": {
  "kernelspec": {
   "display_name": "Python 3 (ipykernel)",
   "language": "python",
   "name": "python3"
  },
  "language_info": {
   "codemirror_mode": {
    "name": "ipython",
    "version": 3
   },
   "file_extension": ".py",
   "mimetype": "text/x-python",
   "name": "python",
   "nbconvert_exporter": "python",
   "pygments_lexer": "ipython3",
   "version": "3.11.7"
  }
 },
 "nbformat": 4,
 "nbformat_minor": 5
}
